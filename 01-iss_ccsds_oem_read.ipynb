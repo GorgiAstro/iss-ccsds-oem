{
 "cells": [
  {
   "cell_type": "code",
   "execution_count": null,
   "id": "suited-tours",
   "metadata": {},
   "outputs": [],
   "source": [
    "import orekit\n",
    "if orekit.getVMEnv() is None:\n",
    "    orekit.initVM()\n",
    "\n",
    "import os\n",
    "from orekit.pyhelpers import download_orekit_data_curdir, setup_orekit_curdir\n",
    "if not os.path.exists('orekit-data.zip'):\n",
    "    download_orekit_data_curdir()\n",
    "setup_orekit_curdir()"
   ]
  },
  {
   "cell_type": "code",
   "execution_count": null,
   "id": "isolated-customs",
   "metadata": {},
   "outputs": [],
   "source": [
    "from datetime import datetime, timedelta\n",
    "date = datetime(2021, 4, 2, 17, 4, 29)\n",
    "duration_s = 3600.0  # seconds, minimum duration starting from date that we want to have in the OEM file"
   ]
  },
  {
   "cell_type": "markdown",
   "id": "floral-leather",
   "metadata": {},
   "source": [
    "Searching for the best OEM file for the given date.\n",
    "\n",
    "As the ISS OEM files contain both past (i.e. historical, definitive) and predicted orbit data,"
   ]
  },
  {
   "cell_type": "code",
   "execution_count": null,
   "id": "saving-exhibit",
   "metadata": {},
   "outputs": [],
   "source": [
    "directory_before_2021 = 'ISS.OEM_J2K_EPH'\n",
    "directory_from_2021 = 'ISS_OEM'"
   ]
  },
  {
   "cell_type": "code",
   "execution_count": null,
   "id": "elementary-array",
   "metadata": {},
   "outputs": [],
   "source": [
    "import urllib.request\n",
    "from orekit.pyhelpers import absolutedate_to_datetime, datetime_to_absolutedate\n",
    "from org.orekit.files.ccsds import OEMParser\n",
    "\n",
    "date_to_try = date\n",
    "error = True\n",
    "\n",
    "while error:\n",
    "    try:\n",
    "        filename = f'ISS.OEM_J2K_EPH_{date_to_try:%Y-%m-%d}.txt'\n",
    "\n",
    "        if date_to_try.year < 2021:\n",
    "            directory = directory_before_2021\n",
    "        else:\n",
    "            directory = directory_from_2021\n",
    "\n",
    "        # Downloading CCSDS OEM file        \n",
    "        target_url = f'https://nasa-public-data.s3.amazonaws.com/iss-coords/{date_to_try:%Y-%m-%d}/{directory}/ISS.OEM_J2K_EPH.txt'\n",
    "        urllib.request.urlretrieve(target_url, filename)\n",
    "        print(f'Successfully downloaded CCSDS OEM for date {date_to_try:%Y-%m-%d}')\n",
    "\n",
    "        # Replacing wrong keyword USABLE_START_TIME to USEABLE_START_TIME in OEM files prior to August 2021...\n",
    "        with open(filename) as f:\n",
    "            newText=f.read().replace('USABLE', 'USEABLE')\n",
    "        with open(filename, \"w\") as f:\n",
    "            f.write(newText)\n",
    "\n",
    "        # Parsing the OEM file using Orekit\n",
    "        oem_file = OEMParser().parse(filename)\n",
    "        # Reading the first ephemeris block in the CCSDS OEM file. \n",
    "        # We assume that the ISS OEMs always contain only one block, which seems to be always the case.\n",
    "        ephem_first_block = oem_file.getEphemeridesBlocks().get(0)\n",
    "\n",
    "        # Checking if the OEM file contains data for the desired time range\n",
    "        if absolutedate_to_datetime(ephem_first_block.getStartTime()) > date:\n",
    "            print('The current OEM file starts after the desired date, searching another file at an earlier date')\n",
    "            date_to_try = date_to_try + timedelta(days=-1)\n",
    "        elif absolutedate_to_datetime(ephem_first_block.getStopTime()) < (date + timedelta(seconds=duration_s)):\n",
    "            print('Something is wrong, the OEM file (normally 15 days long) stops before the desired time range')      \n",
    "            break\n",
    "        else:\n",
    "            print('The current OEM file contains data at the date we want')\n",
    "            error = False\n",
    "        \n",
    "    except:\n",
    "        print(f'Date {date_to_try:%Y-%m-%d} has no available data, retrying an earlier date')\n",
    "        date_to_try = date_to_try + timedelta(days=-1)"
   ]
  },
  {
   "cell_type": "markdown",
   "id": "gothic-banana",
   "metadata": {},
   "source": [
    "Getting the PV coordinates"
   ]
  },
  {
   "cell_type": "code",
   "execution_count": null,
   "id": "future-structure",
   "metadata": {},
   "outputs": [],
   "source": [
    "from org.orekit.files.general import EphemerisFile\n",
    "# Must cast to the EphemerisFile.EphemerisSegment interface because of the limitations of the Orekit Python wrapper\n",
    "bounded_propagator = EphemerisFile.EphemerisSegment.cast_(ephem_first_block).getPropagator()"
   ]
  },
  {
   "cell_type": "code",
   "execution_count": null,
   "id": "engaging-giving",
   "metadata": {},
   "outputs": [],
   "source": [
    "from org.orekit.frames import FramesFactory\n",
    "eme2000 = FramesFactory.getEME2000()"
   ]
  },
  {
   "cell_type": "code",
   "execution_count": null,
   "id": "comic-processing",
   "metadata": {},
   "outputs": [],
   "source": [
    "pv_eme2000 = bounded_propagator.getPVCoordinates(datetime_to_absolutedate(date), eme2000)"
   ]
  },
  {
   "cell_type": "code",
   "execution_count": null,
   "id": "black-newspaper",
   "metadata": {},
   "outputs": [],
   "source": []
  }
 ],
 "metadata": {
  "kernelspec": {
   "display_name": "Python 3",
   "language": "python",
   "name": "python3"
  },
  "language_info": {
   "codemirror_mode": {
    "name": "ipython",
    "version": 3
   },
   "file_extension": ".py",
   "mimetype": "text/x-python",
   "name": "python",
   "nbconvert_exporter": "python",
   "pygments_lexer": "ipython3",
   "version": "3.8.0"
  }
 },
 "nbformat": 4,
 "nbformat_minor": 5
}
