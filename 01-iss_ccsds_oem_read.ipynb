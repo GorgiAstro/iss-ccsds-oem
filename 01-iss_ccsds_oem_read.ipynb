{
 "cells": [
  {
   "cell_type": "markdown",
   "id": "ef30217d",
   "metadata": {},
   "source": [
    "Getting and reading CCSDS OEM ephemerides for the ISS using Orekit."
   ]
  },
  {
   "cell_type": "code",
   "execution_count": null,
   "id": "c072fcd7",
   "metadata": {},
   "outputs": [],
   "source": [
    "import orekit\n",
    "if orekit.getVMEnv() is None:\n",
    "    orekit.initVM()\n",
    "\n",
    "import os\n",
    "from orekit.pyhelpers import download_orekit_data_curdir, setup_orekit_curdir\n",
    "if not os.path.exists('orekit-data.zip'):\n",
    "    download_orekit_data_curdir()\n",
    "setup_orekit_curdir()"
   ]
  },
  {
   "cell_type": "code",
   "execution_count": null,
   "id": "a1105fdf",
   "metadata": {},
   "outputs": [],
   "source": [
    "from datetime import datetime, timedelta\n",
    "date = datetime(2021, 4, 3, 17, 4, 29)\n",
    "duration_s = 3600.0  # seconds, minimum duration starting from date that we want to have in the OEM file"
   ]
  },
  {
   "cell_type": "code",
   "execution_count": null,
   "id": "19a20b30",
   "metadata": {},
   "outputs": [],
   "source": [
    "directory_before_2021 = 'ISS.OEM_J2K_EPH'\n",
    "directory_from_2021 = 'ISS_OEM'"
   ]
  },
  {
   "cell_type": "markdown",
   "id": "b50bce45",
   "metadata": {},
   "source": [
    "Searching for the best OEM file for the given date. This part only works from October 2020. If ephemeris files are already available on the local computer, then this block is not needed anymore, just use `oem_file = OEMParser().parse(filename)`."
   ]
  },
  {
   "cell_type": "code",
   "execution_count": null,
   "id": "80d41140",
   "metadata": {},
   "outputs": [],
   "source": [
    "from org.orekit.frames import FramesFactory, ITRFVersion\n",
    "from org.orekit.utils import IERSConventions\n",
    "tod = FramesFactory.getTOD(IERSConventions.IERS_2010, False) # Taking tidal effects into account when interpolating EOP parameters\n",
    "eme2000 = FramesFactory.getEME2000()\n",
    "gcrf = FramesFactory.getGCRF()\n",
    "itrf = FramesFactory.getITRF(IERSConventions.IERS_2010, False)\n",
    "\n",
    "from org.orekit.models.earth import ReferenceEllipsoid\n",
    "wgs84Ellipsoid = ReferenceEllipsoid.getWgs84(itrf)\n",
    "\n",
    "from org.orekit.time import TimeScalesFactory\n",
    "utc = TimeScalesFactory.getUTC()"
   ]
  },
  {
   "cell_type": "code",
   "execution_count": null,
   "id": "2afc96cf",
   "metadata": {},
   "outputs": [],
   "source": [
    "import urllib.request\n",
    "from orekit.pyhelpers import absolutedate_to_datetime, datetime_to_absolutedate\n",
    "from org.orekit.files.ccsds.ndm import ParserBuilder\n",
    "from org.orekit.data import DataSource \n",
    "\n",
    "date_to_try = date\n",
    "error = True\n",
    "\n",
    "#while error:\n",
    " #   try:\n",
    "filename = f'ISS.OEM_J2K_EPH_{date_to_try:%Y-%m-%d}.txt'\n",
    "\n",
    "if date_to_try.year < 2021:\n",
    "    directory = directory_before_2021\n",
    "else:\n",
    "    directory = directory_from_2021\n",
    "\n",
    "# Downloading CCSDS OEM file        \n",
    "target_url = f'https://nasa-public-data.s3.amazonaws.com/iss-coords/{date_to_try:%Y-%m-%d}/{directory}/ISS.OEM_J2K_EPH.txt'\n",
    "urllib.request.urlretrieve(target_url, filename)\n",
    "print(f'Successfully downloaded CCSDS OEM for date {date_to_try:%Y-%m-%d}')\n",
    "\n",
    "# Replacing wrong keyword USABLE_START_TIME to USEABLE_START_TIME in OEM files prior to August 2021...\n",
    "with open(filename) as f:\n",
    "    newText=f.read().replace('USABLE', 'USEABLE')\n",
    "with open(filename, \"w\") as f:\n",
    "    f.write(newText)\n",
    "\n",
    "# Parsing the OEM file using Orekit\n",
    "oem_file = ParserBuilder().buildOemParser().parse(DataSource(filename))\n",
    "# Reading the first ephemeris block in the CCSDS OEM file. \n",
    "# We assume that the ISS OEMs always contain only one block, which seems to be always the case.\n",
    "ephem_first_block = oem_file.getEphemeridesBlocks().get(0)\n",
    "\n",
    "# Checking if the OEM file contains data for the desired time range\n",
    "if absolutedate_to_datetime(ephem_first_block.getStartTime()) > date:\n",
    "    print('The current OEM file starts after the desired date, searching another file at an earlier date')\n",
    "    date_to_try = date_to_try + timedelta(days=-1)\n",
    "elif absolutedate_to_datetime(ephem_first_block.getStopTime()) < (date + timedelta(seconds=duration_s)):\n",
    "    print('Something is wrong, the OEM file (normally 15 days long) stops before the desired time range')      \n",
    "    break\n",
    "else:\n",
    "    print('The current OEM file contains data at the date we want')\n",
    "    error = False\n",
    "        \n",
    "   # except:\n",
    "    #    print(f'Date {date_to_try:%Y-%m-%d} has no available data, retrying an earlier date')\n",
    "     #   date_to_try = date_to_try + timedelta(days=-1)"
   ]
  },
  {
   "cell_type": "code",
   "execution_count": null,
   "id": "368d3322",
   "metadata": {},
   "outputs": [],
   "source": [
    "from org.orekit.files.general import EphemerisFile\n",
    "from orekit.pyhelpers import datetime_to_absolutedate\n",
    "# Must cast to the EphemerisFile.EphemerisSegment interface because of the limitations of the Orekit Python wrapper\n",
    "bounded_propagator = EphemerisFile.EphemerisSegment.cast_(ephem_first_block).getPropagator()\n",
    "date_min = bounded_propagator.getMinDate()\n",
    "date_max = bounded_propagator.getMaxDate()\n",
    "date_end = date + timedelta(seconds=86400)\n",
    "print(f'File contains data from {date_min} to {date_max}')\n",
    "print(f'We will process data from {datetime_to_absolutedate(date)} to {datetime_to_absolutedate(date_end)}')"
   ]
  },
  {
   "cell_type": "code",
   "execution_count": null,
   "id": "9f128032",
   "metadata": {},
   "outputs": [],
   "source": [
    "bounded_propagator.getFrame()"
   ]
  },
  {
   "cell_type": "code",
   "execution_count": null,
   "id": "0efef559",
   "metadata": {},
   "outputs": [],
   "source": [
    "import pandas as pd\n",
    "ground_stations_file = 'ground-stations.csv'\n",
    "ground_station_df = pd.read_csv(ground_stations_file, index_col=0)\n",
    "\n",
    "display(ground_station_df)"
   ]
  },
  {
   "cell_type": "code",
   "execution_count": null,
   "id": "4e985422",
   "metadata": {},
   "outputs": [],
   "source": [
    "import numpy as np\n",
    "\n",
    "sigma_position = 1.0  # Position noise in meters\n",
    "sigma_velocity = 1e-3 # Velocity noise in meters per second\n",
    "step_pv = 60.0  # Step time in seconds for output PV data\n",
    "\n",
    "sigma_range = 1.0  # Range noise in meters\n",
    "sigma_range_rate = 1e-3  # Range rate noise in meters per second\n",
    "sigma_az = float(np.deg2rad(0.01))  # Azimuth noise in radians\n",
    "sigma_el = float(np.deg2rad(0.01))  # Elevation noise in radians\n",
    "sigma_ra = float(np.deg2rad(0.01))  # Right ascension noise in radians\n",
    "sigma_dec = float(np.deg2rad(0.01))  # Declination noise in radians\n",
    "step_ground_station_measurements = 10.0  # When a ground station is in view, take measurements every 10 seconds"
   ]
  },
  {
   "cell_type": "code",
   "execution_count": null,
   "id": "b32609de",
   "metadata": {},
   "outputs": [],
   "source": [
    "from org.orekit.bodies import GeodeticPoint\n",
    "from org.orekit.frames import TopocentricFrame\n",
    "from org.orekit.propagation.events import ElevationDetector\n",
    "from org.orekit.estimation.measurements import GroundStation, Range, AngularAzEl, ObservableSatellite\n",
    "from org.orekit.estimation.measurements.generation import PVBuilder, RangeBuilder, RangeRateBuilder, AngularAzElBuilder, AngularRaDecBuilder, EventBasedScheduler, SignSemantic, Generator, ContinuousScheduler\n",
    "from org.orekit.time import FixedStepSelector\n",
    "from org.orekit.estimation.measurements import ObservableSatellite\n",
    "from org.orekit.propagation.events.handlers import ContinueOnEvent\n",
    "\n",
    "observableSatellite = ObservableSatellite(0) # Propagator index = 0\n",
    "\n",
    "meas_generator = Generator()\n",
    "meas_generator.addPropagator(bounded_propagator)\n",
    "\n",
    "# Add PV builder\n",
    "meas_generator.addScheduler(\n",
    "    ContinuousScheduler(\n",
    "        PVBuilder(None,  # no noise\n",
    "                  sigma_position,\n",
    "                  sigma_velocity,\n",
    "                  1.0,  # Base weight\n",
    "                  observableSatellite), \n",
    "        FixedStepSelector(step_pv, utc))\n",
    ")\n",
    "\n",
    "for gs_name, gs_data in ground_station_df.iterrows():\n",
    "    geodetic_point = GeodeticPoint(float(np.deg2rad(gs_data['latitude_deg'])),\n",
    "                                   float(np.deg2rad(gs_data['longitude_deg'])),\n",
    "                                   float(gs_data['altitude']))\n",
    "    topocentric_frame = TopocentricFrame(wgs84Ellipsoid, geodetic_point, gs_name)\n",
    "    ground_station_df.loc[gs_name, 'GroundStation'] = GroundStation(topocentric_frame)\n",
    "\n",
    "    # Range builder\n",
    "    meas_generator.addScheduler(\n",
    "        EventBasedScheduler(\n",
    "            RangeBuilder(None, \n",
    "                         GroundStation(topocentric_frame), \n",
    "                         False,  # one-way, this is important for telescope observations\n",
    "                         sigma_range, \n",
    "                         1.0,  # Base weight\n",
    "                         observableSatellite), \n",
    "            FixedStepSelector(step_ground_station_measurements, utc), \n",
    "            bounded_propagator, \n",
    "            ElevationDetector(topocentric_frame).withHandler(ContinueOnEvent()), \n",
    "            SignSemantic.FEASIBLE_MEASUREMENT_WHEN_POSITIVE)\n",
    "    )\n",
    "\n",
    "    # Range rate builder\n",
    "    meas_generator.addScheduler(\n",
    "        EventBasedScheduler(\n",
    "            RangeRateBuilder(None,  # no noise\n",
    "                             GroundStation(topocentric_frame), \n",
    "                             True,  # two-way\n",
    "                             sigma_range_rate, \n",
    "                             1.0,  # Base weight\n",
    "                             observableSatellite), \n",
    "            FixedStepSelector(step_ground_station_measurements, utc), \n",
    "            bounded_propagator, \n",
    "            ElevationDetector(topocentric_frame).withHandler(ContinueOnEvent()), \n",
    "            SignSemantic.FEASIBLE_MEASUREMENT_WHEN_POSITIVE)\n",
    "    )\n",
    "\n",
    "    # Az/el builder\n",
    "    meas_generator.addScheduler(\n",
    "        EventBasedScheduler(\n",
    "            AngularAzElBuilder(None,  # no noise\n",
    "                               GroundStation(topocentric_frame),\n",
    "                               [sigma_az, sigma_el], \n",
    "                               [1.0, 1.0],  # Base weight\n",
    "                               observableSatellite), \n",
    "            FixedStepSelector(step_ground_station_measurements, utc), \n",
    "            bounded_propagator, \n",
    "            ElevationDetector(topocentric_frame).withHandler(ContinueOnEvent()), \n",
    "            SignSemantic.FEASIBLE_MEASUREMENT_WHEN_POSITIVE)\n",
    "    )\n",
    "\n",
    "    # RA/DEC builder\n",
    "    meas_generator.addScheduler(\n",
    "        EventBasedScheduler(\n",
    "            AngularRaDecBuilder(None,  # no noise\n",
    "                               GroundStation(topocentric_frame),\n",
    "                               eme2000,  # RA/DEC measurements are defined in Earth-centered inertial frame\n",
    "                               [sigma_ra, sigma_dec], \n",
    "                               [1.0, 1.0],  # Base weight\n",
    "                               observableSatellite), \n",
    "            FixedStepSelector(step_ground_station_measurements, utc), \n",
    "            bounded_propagator, \n",
    "            ElevationDetector(topocentric_frame).withHandler(ContinueOnEvent()), \n",
    "            SignSemantic.FEASIBLE_MEASUREMENT_WHEN_POSITIVE)\n",
    "    )"
   ]
  },
  {
   "cell_type": "markdown",
   "id": "fca8f6b4",
   "metadata": {},
   "source": [
    "Propagating, retrieving the generated measurements.\n",
    "\n",
    "Warning: the cell below cannot be run a second time without running the cell above again before. Otherwise the result structure will be empty."
   ]
  },
  {
   "cell_type": "code",
   "execution_count": null,
   "id": "727e5f6b",
   "metadata": {},
   "outputs": [],
   "source": [
    "from orekit.pyhelpers import absolutedate_to_datetime\n",
    "from org.orekit.estimation.measurements import ObservedMeasurement, PV, Range, RangeRate, AngularAzEl, AngularRaDec\n",
    "from org.orekit.utils import PVCoordinates\n",
    "from org.hipparchus.geometry.euclidean.threed import Vector3D\n",
    "\n",
    "generated = meas_generator.generate(datetime_to_absolutedate(date), datetime_to_absolutedate(date_end))\n",
    "pv_itrf_df = pd.DataFrame(columns=['x', 'y', 'z', 'vx', 'vy', 'vz'])\n",
    "pv_eme2000_df = pd.DataFrame(columns=['x', 'y', 'z', 'vx', 'vy', 'vz'])\n",
    "range_df = pd.DataFrame(columns=['ground_station', 'range'])\n",
    "range_rate_df = pd.DataFrame(columns=['ground_station', 'range_rate'])\n",
    "az_el_df = pd.DataFrame(columns=['ground_station', 'az_deg', 'el_deg'])\n",
    "ra_dec_df = pd.DataFrame(columns=['ground_station', 'ra_deg', 'dec_deg'])\n",
    "\n",
    "for meas in generated.toArray():\n",
    "    observed_meas = ObservedMeasurement.cast_(meas)\n",
    "    py_datetime = absolutedate_to_datetime(observed_meas.date)\n",
    "\n",
    "    if PV.instance_(observed_meas):\n",
    "        '''\n",
    "        PV objects are given in propagator frame (ECI)\n",
    "        We transform them to ITRF and to EME2000 frame (depending on the user's needs)\n",
    "        '''\n",
    "        observed_pv = PV.cast_(observed_meas)\n",
    "        pv_eci_jarray = observed_meas.getObservedValue()\n",
    "        pv_eci = PVCoordinates(Vector3D(pv_eci_jarray[0:3]), Vector3D(pv_eci_jarray[3:6]))\n",
    "        \n",
    "        eci_to_itrf = eme2000.getTransformTo(itrf, observed_meas.date)\n",
    "        pv_itrf = eci_to_itrf.transformPVCoordinates(pv_eci)\n",
    "        pv_itrf_df.loc[py_datetime] = np.concatenate(([np.array(pv_itrf.getPosition().toArray()),\n",
    "                                                       np.array(pv_itrf.getVelocity().toArray())]))\n",
    "        \n",
    "        pv_eme2000_df.loc[py_datetime] = np.concatenate(([np.array(pv_eci.getPosition().toArray()),\n",
    "                                                       np.array(pv_eci.getVelocity().toArray())]))\n",
    "        \n",
    "        \n",
    "\n",
    "    elif Range.instance_(observed_meas):\n",
    "        observed_range = Range.cast_(observed_meas)\n",
    "        range_df.loc[py_datetime] = np.concatenate(([observed_range.getStation().getBaseFrame().name], \n",
    "                                                    np.array(observed_range.getObservedValue())))\n",
    "\n",
    "    elif RangeRate.instance_(observed_meas):\n",
    "        observed_range_rate = RangeRate.cast_(observed_meas)\n",
    "        range_rate_df.loc[py_datetime] = np.concatenate(([observed_range_rate.getStation().getBaseFrame().name], \n",
    "                                                         np.array(observed_range_rate.getObservedValue())))\n",
    "\n",
    "    elif AngularAzEl.instance_(observed_meas):\n",
    "        observed_az_el = AngularAzEl.cast_(observed_meas)\n",
    "        az_el_df.loc[py_datetime] = np.concatenate(([observed_az_el.getStation().getBaseFrame().name], \n",
    "                                                    np.rad2deg(observed_az_el.getObservedValue())))\n",
    "\n",
    "    elif AngularRaDec.instance_(observed_meas):\n",
    "        observed_ra_dec = AngularRaDec.cast_(observed_meas)\n",
    "        ra_dec_df.loc[py_datetime] = np.concatenate(([observed_ra_dec.getStation().getBaseFrame().name], \n",
    "                                                     np.rad2deg(observed_ra_dec.getObservedValue())))"
   ]
  },
  {
   "cell_type": "markdown",
   "id": "ad79a402",
   "metadata": {},
   "source": [
    "Position and velocity in ITRF frame"
   ]
  },
  {
   "cell_type": "code",
   "execution_count": null,
   "id": "7653a945",
   "metadata": {},
   "outputs": [],
   "source": [
    "pv_itrf_df"
   ]
  },
  {
   "cell_type": "markdown",
   "id": "49bd0e4a",
   "metadata": {},
   "source": [
    "Position and velocity in EME2000 frame"
   ]
  },
  {
   "cell_type": "code",
   "execution_count": null,
   "id": "05a0f22d",
   "metadata": {},
   "outputs": [],
   "source": [
    "pv_eme2000_df"
   ]
  },
  {
   "cell_type": "markdown",
   "id": "bf7e33d4",
   "metadata": {},
   "source": [
    "Azimuth and elevation, here selecting only the Tunka ground station."
   ]
  },
  {
   "cell_type": "code",
   "execution_count": null,
   "id": "fd637060",
   "metadata": {},
   "outputs": [],
   "source": [
    "az_el_df[az_el_df['ground_station'] == 'Tunka']"
   ]
  },
  {
   "cell_type": "markdown",
   "id": "ff5d5609",
   "metadata": {},
   "source": [
    "Right ascension and declination when the spacecraft is in view of any station. Although the RA/DEC coordinates are in theory independent on the station's position, here the time-of-flight to a ground telescope for instance plays a role."
   ]
  },
  {
   "cell_type": "code",
   "execution_count": null,
   "id": "666bffda",
   "metadata": {},
   "outputs": [],
   "source": [
    "ra_dec_df"
   ]
  }
 ],
 "metadata": {
  "kernelspec": {
   "display_name": "Python 3 (ipykernel)",
   "language": "python",
   "name": "python3"
  },
  "language_info": {
   "codemirror_mode": {
    "name": "ipython",
    "version": 3
   },
   "file_extension": ".py",
   "mimetype": "text/x-python",
   "name": "python",
   "nbconvert_exporter": "python",
   "pygments_lexer": "ipython3",
   "version": "3.8.0"
  }
 },
 "nbformat": 4,
 "nbformat_minor": 5
}
